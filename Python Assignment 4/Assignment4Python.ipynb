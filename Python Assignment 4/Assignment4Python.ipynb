{
 "cells": [
  {
   "cell_type": "markdown",
   "metadata": {},
   "source": [
    "# 1.1 Write a Python Program(with class concepts) to find the area of the triangle using the below formula.\n",
    "\n",
    "area = (s*(s-a)*(s-b)*(s-c)) ** 0.5\n",
    "\n",
    "Function to take the length of the sides of triangle from user should be defined in the parent class and function to calculate the area should be defined in subclass."
   ]
  },
  {
   "cell_type": "code",
   "execution_count": 1,
   "metadata": {},
   "outputs": [
    {
     "name": "stdout",
     "output_type": "stream",
     "text": [
      "Enter the First Side: 5\n",
      "Enter the Second Side: 12\n",
      "Enter the Third Side: 13\n",
      "30.0 is the area of the Triangle\n"
     ]
    }
   ],
   "source": [
    "class Triangle:\n",
    "    def __init__(self):\n",
    "        self.side_1=float(input(\"Enter the First Side: \"))\n",
    "        self.side_2=float(input(\"Enter the Second Side: \"))\n",
    "        self.side_3=float(input(\"Enter the Third Side: \"))\n",
    "class GeneralTriangle(Triangle):\n",
    "    def __init__(self):\n",
    "        Triangle.__init__(self)\n",
    "        self.s=(self.side_1+self.side_2+self.side_3)/2\n",
    "        self.area=self.calculateArea()\n",
    "    def calculateArea(self):\n",
    "        return (self.s*(self.s-self.side_1)*(self.s-self.side_2)*(self.s-self.side_3))**0.5\n",
    "    def __str__(self):\n",
    "        return(\"{} is the area of the Triangle\".format(self.area))\n",
    "\n",
    "newTriangle=GeneralTriangle()\n",
    "print(newTriangle)"
   ]
  },
  {
   "cell_type": "markdown",
   "metadata": {},
   "source": [
    "# 1.2 Write a function filter_long_words() that takes a list of words and an integer n and returns the list of words that are longer than n."
   ]
  },
  {
   "cell_type": "code",
   "execution_count": 2,
   "metadata": {},
   "outputs": [
    {
     "name": "stdout",
     "output_type": "stream",
     "text": [
      "['disappointed']\n",
      "['happy', 'angry', 'disappointed']\n"
     ]
    }
   ],
   "source": [
    "def filter_long_words(list_word,min_len):\n",
    "    return [word for word in list_word if len(word)>min_len]\n",
    "\n",
    "words=[\"happy\",\"sad\",\"angry\",'disappointed']\n",
    "print(filter_long_words(words,5))\n",
    "print(filter_long_words(words,3))"
   ]
  },
  {
   "cell_type": "markdown",
   "metadata": {},
   "source": [
    "# 2.1 Write a Python program using function concept that maps list of words into a list of integers representing the lengths of the corresponding words.\n",
    "Hint: If a list [ ab,cde,erty] is passed on to the python function output should come as [2,3,4]\n",
    "Here 2,3 and 4 are the lengths of the words in the list."
   ]
  },
  {
   "cell_type": "code",
   "execution_count": 3,
   "metadata": {},
   "outputs": [
    {
     "data": {
      "text/plain": [
       "[5, 3, 5, 12]"
      ]
     },
     "execution_count": 3,
     "metadata": {},
     "output_type": "execute_result"
    }
   ],
   "source": [
    "def len_words(lis_word):\n",
    "    return [len(word) for word in lis_word]\n",
    "len_words(words)"
   ]
  },
  {
   "cell_type": "markdown",
   "metadata": {},
   "source": [
    "# 2.2 Write a Python function which takes a character (i.e. a string of length 1) and returns True if it is a vowel, False otherwise."
   ]
  },
  {
   "cell_type": "code",
   "execution_count": 4,
   "metadata": {},
   "outputs": [
    {
     "name": "stdout",
     "output_type": "stream",
     "text": [
      "False\n",
      "True\n",
      "False\n",
      "True\n",
      "False\n"
     ]
    }
   ],
   "source": [
    "def vowel(stri):\n",
    "    if len(stri)!=1:\n",
    "        return False\n",
    "    return True if stri in ('a','e','i','o','u','A','E','I','O','U') else False\n",
    "print(vowel(\"ae\"))\n",
    "print(vowel(\"a\"))\n",
    "print(vowel(\"b\"))\n",
    "print(vowel(\"A\"))\n",
    "print(vowel(\"B\"))"
   ]
  }
 ],
 "metadata": {
  "kernelspec": {
   "display_name": "Python 3",
   "language": "python",
   "name": "python3"
  },
  "language_info": {
   "codemirror_mode": {
    "name": "ipython",
    "version": 3
   },
   "file_extension": ".py",
   "mimetype": "text/x-python",
   "name": "python",
   "nbconvert_exporter": "python",
   "pygments_lexer": "ipython3",
   "version": "3.7.1"
  }
 },
 "nbformat": 4,
 "nbformat_minor": 4
}
