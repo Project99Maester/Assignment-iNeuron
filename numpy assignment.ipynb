{
 "cells": [
  {
   "cell_type": "markdown",
   "metadata": {},
   "source": [
    "### Write a function so that the columns of the output matrix are powers of the input\n",
    "vector.\n",
    "The order of the powers is determined by the increasing boolean argument. Specifically, when\n",
    "increasing is False, the i-th output column is the input vector raised element-wise to the power\n",
    "of N - i - 1.\n",
    "\n",
    "HINT: Such a matrix with a geometric progression in each row is named for Alexandre-Theophile Vandermonde"
   ]
  },
  {
   "cell_type": "code",
   "execution_count": 1,
   "metadata": {},
   "outputs": [],
   "source": [
    "import numpy as np"
   ]
  },
  {
   "cell_type": "code",
   "execution_count": 2,
   "metadata": {},
   "outputs": [
    {
     "name": "stdout",
     "output_type": "stream",
     "text": [
      "For Increasing Order\n",
      "[[  1   1   1   1   1]\n",
      " [  1   2   4   8  16]\n",
      " [  1   3   9  27  81]\n",
      " [  1   4  16  64 256]\n",
      " [  1   5  25 125 625]]\n",
      "------------------------------\n",
      "For Decreasing Order\n",
      "[[  1   1   1   1   1]\n",
      " [ 16   8   4   2   1]\n",
      " [ 81  27   9   3   1]\n",
      " [256  64  16   4   1]\n",
      " [625 125  25   5   1]]\n"
     ]
    }
   ],
   "source": [
    "def ATV(x,N,increasing=False):\n",
    "    x=np.array(x)\n",
    "    if increasing:\n",
    "        return np.column_stack([x**(i) for i in range(N)])\n",
    "    return np.column_stack([x**(N-1-i) for i in range(N)])\n",
    "print(\"For Increasing Order\")\n",
    "print(ATV([1,2,3,4,5],5,increasing=True))\n",
    "print(\"-\"*30)\n",
    "print(\"For Decreasing Order\")\n",
    "print(ATV([1,2,3,4,5],5))"
   ]
  },
  {
   "cell_type": "markdown",
   "metadata": {},
   "source": [
    "### Problem Statement 2:\n",
    "Given a sequence of n values x1, x2, ..., xn and a window size k>0, the k-th moving average of\n",
    "\n",
    "the given sequence is defined as follows:\n",
    "\n",
    "The moving average sequence has n-k+1 elements as shown below.\n",
    "\n",
    "The moving averages with k=4 of a ten-value sequence (n=10) is shown below\n",
    "\n",
    "i 1 2 3 4 5 6 7 8 9 10\n",
    "\n",
    "===== == == == == == == == == == ==\n",
    "\n",
    "Input 10 20 30 40 50 60 70 80 90 100\n",
    "\n",
    "y1 25 = (10+20+30+40)/4\n",
    "\n",
    "y2 35 = (20+30+40+50)/4\n",
    "\n",
    "y3 45 = (30+40+50+60)/4\n",
    "\n",
    "y4 55 = (40+50+60+70)/4\n",
    "\n",
    "y5 65 = (50+60+70+80)/4\n",
    "\n",
    "y6 75 = (60+70+80+90)/4\n",
    "\n",
    "y7 85 = (70+80+90+100)/4\n",
    "\n",
    "Thus, the moving average sequence has n-k+1=10-4+1=7 values.\n",
    "\n",
    "Question: Write a function to find moving average in an array over a \n",
    "window:\n",
    "\n",
    "Test it over [3, 5, 7, 2, 8, 10, 11, 65, 72, 81, 99, 100, 150] and window of 3.\n",
    "\n"
   ]
  },
  {
   "cell_type": "code",
   "execution_count": 3,
   "metadata": {},
   "outputs": [
    {
     "name": "stdout",
     "output_type": "stream",
     "text": [
      "window 1 is 5.0\n",
      "window 2 is 4.666666666666667\n",
      "window 3 is 5.666666666666667\n",
      "window 4 is 6.666666666666667\n",
      "window 5 is 9.666666666666666\n",
      "window 6 is 28.666666666666668\n",
      "window 7 is 49.333333333333336\n",
      "window 8 is 72.66666666666667\n",
      "window 9 is 84.0\n",
      "window 10 is 93.33333333333333\n",
      "window 11 is 116.33333333333333\n"
     ]
    }
   ],
   "source": [
    "def movingAverage(arr,K):\n",
    "    N=len(arr)\n",
    "    cumSum=np.cumsum(arr)\n",
    "    for i in range(N-K+1):\n",
    "        if i==0:\n",
    "            ans=cumSum[K-1]\n",
    "        else:\n",
    "            ans=cumSum[i+K-1]-cumSum[i-1]\n",
    "            \n",
    "        print(\"window {} is {}\".format(i+1,ans/K))\n",
    "    \n",
    "movingAverage([3, 5, 7, 2, 8, 10, 11, 65, 72, 81, 99, 100, 150] ,3)"
   ]
  }
 ],
 "metadata": {
  "kernelspec": {
   "display_name": "Python 3",
   "language": "python",
   "name": "python3"
  },
  "language_info": {
   "codemirror_mode": {
    "name": "ipython",
    "version": 3
   },
   "file_extension": ".py",
   "mimetype": "text/x-python",
   "name": "python",
   "nbconvert_exporter": "python",
   "pygments_lexer": "ipython3",
   "version": "3.7.1"
  }
 },
 "nbformat": 4,
 "nbformat_minor": 4
}
